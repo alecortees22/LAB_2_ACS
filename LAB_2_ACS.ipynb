{
 "cells": [
  {
   "cell_type": "markdown",
   "metadata": {},
   "source": [
    "<img src=\"http://oci02.img.iteso.mx/identidad_de_instancia_2018/ITESO/Logos%20ITESO/Logo-ITESO-Principal.jpg\">"
   ]
  },
  {
   "cell_type": "markdown",
   "metadata": {},
   "source": [
    "<center> <font color= #004A94> <font size = 5> Ingeniería Financiera | ITESO </font> <br> <br>"
   ]
  },
  {
   "cell_type": "markdown",
   "metadata": {},
   "source": [
    "<center> <font color= #004A94> <font size = 6> Microestructura y Sistemas de Trading </font> <br> <br>"
   ]
  },
  {
   "cell_type": "markdown",
   "metadata": {},
   "source": [
    "<center> <font color=#42c29b><font size=5> Laboratorio 2 <br> <br> Behavioral Finance para Trading </font> <br> <br>"
   ]
  },
  {
   "cell_type": "markdown",
   "metadata": {},
   "source": [
    "<center> <font color=#004A94><font size=4> I.F. Alejandra Cortés Soto | if708833@iteso.mx </font> <br> <br>"
   ]
  },
  {
   "cell_type": "markdown",
   "metadata": {},
   "source": [
    "# Abstract"
   ]
  },
  {
   "cell_type": "markdown",
   "metadata": {},
   "source": [
    "En este trabajo se analizaron los datos obtenidos de un histórico de una cuenta de trading, se aplicaron técnicas para evaluar el desempeño, comparar ganancias contra pérdidas y obtener un resumen del comportamiento presentado por el trader durante el tiempo del ejercicio de inversión."
   ]
  },
  {
   "cell_type": "markdown",
   "metadata": {},
   "source": [
    "# Modulos y dependencias"
   ]
  },
  {
   "cell_type": "markdown",
   "metadata": {},
   "source": [
    "## Sección 1. Mediciones de estadísticas básicas de una cuenta de trading."
   ]
  },
  {
   "cell_type": "markdown",
   "metadata": {},
   "source": [
    "### Función 1. Función para leer archivo.\n",
    "Esta función nos permite leer el archivo del histórico de trading en .csv, .xls y .xlsx, para posteriormente aplicar las técnicas de análisis."
   ]
  },
  {
   "cell_type": "code",
   "execution_count": 1,
   "metadata": {},
   "outputs": [],
   "source": [
    "#Primero importamos el archivo de funciones donde tenemos la estructura\n",
    "#de cada una de las técnicas creadas para el análisis\n",
    "import funciones as fn "
   ]
  },
  {
   "cell_type": "markdown",
   "metadata": {},
   "source": [
    "Nombramos a nuestro DataFrame que nos muestra el histórico y la aplicamos la función de lectura de archivo en la cual indicamos los parámetros para leer "
   ]
  },
  {
   "cell_type": "code",
   "execution_count": null,
   "metadata": {},
   "outputs": [],
   "source": [
    "# Nombramos a nuestro DataFrame que nos muestra el histórico y la aplicamos\n",
    "# la función de lectura de archivo en la cual indicamos los parámetros para\n",
    "# leer \n",
    "df_data = fn.f_leer_archivo(param_archivo='Statement_1.xlsx')"
   ]
  }
 ],
 "metadata": {
  "kernelspec": {
   "display_name": "Python 3",
   "language": "python",
   "name": "python3"
  },
  "language_info": {
   "codemirror_mode": {
    "name": "ipython",
    "version": 3
   },
   "file_extension": ".py",
   "mimetype": "text/x-python",
   "name": "python",
   "nbconvert_exporter": "python",
   "pygments_lexer": "ipython3",
   "version": "3.7.0"
  }
 },
 "nbformat": 4,
 "nbformat_minor": 2
}
